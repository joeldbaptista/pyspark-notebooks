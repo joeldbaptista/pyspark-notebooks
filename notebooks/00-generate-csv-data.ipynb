{
 "cells": [
  {
   "cell_type": "code",
   "execution_count": 4,
   "id": "ea6b4fe6-9480-4ac7-a819-80cdb53d0013",
   "metadata": {},
   "outputs": [],
   "source": [
    "from faker import Faker\n",
    "from faker.providers import BaseProvider\n",
    "from datetime import datetime\n",
    "\n",
    "import random\n",
    "import csv"
   ]
  },
  {
   "cell_type": "code",
   "execution_count": 5,
   "id": "80673fc9-126f-465e-807e-5870755e7558",
   "metadata": {},
   "outputs": [],
   "source": [
    "class GenereProvider(BaseProvider):\n",
    "    def movie_genre(self):\n",
    "        return random.choice(['Documentary', 'Thriller', 'Mystery', 'Horror', 'Action', 'Comedy', 'Drama', 'Romance'])\n",
    "\n",
    "class LanguageProvider(BaseProvider):\n",
    "    def language(self):\n",
    "        return random.choice(['English', 'Chinese', 'Italian', 'Spanish', 'Hindi', 'Japanese'])\n",
    "\n",
    "fake = Faker()\n",
    "\n",
    "fake.add_provider(GenereProvider)\n",
    "fake.add_provider(LanguageProvider)\n",
    "num_records = 1000\n",
    "\n",
    "def capitalize(str):\n",
    "    return str.capitalize()\n",
    "\n",
    "def get_movie_name():\n",
    "    words = fake.words()\n",
    "    capitalized_words = list(map(capitalize, words))\n",
    "    return ' '.join(capitalized_words)\n",
    "\n",
    "def get_movie_date():\n",
    "    return datetime.strftime(fake.date_time_this_decade(), \"%B %d, %Y\")\n",
    "\n",
    "def get_movie_len():\n",
    "    return random.randrange(50, 150)\n",
    "\n",
    "def get_movie_rating():\n",
    "    return round(random.uniform(1.0, 5.0), 1)\n",
    "\n",
    "def generate_movie():\n",
    "    return [get_movie_name(), fake.movie_genre(), get_movie_date(), get_movie_len(), get_movie_rating(), fake.language()]\n",
    "\n",
    "with open('data/movie_data.csv', 'w') as csvfile:\n",
    "    writer = csv.writer(csvfile)\n",
    "    writer.writerow(['Title', 'Genre', 'Premiere', 'Runtime', 'IMDB Score', 'Language'])\n",
    "    for n in range(1, num_records):\n",
    "        writer.writerow(generate_movie())"
   ]
  }
 ],
 "metadata": {
  "kernelspec": {
   "display_name": "Python 3 (ipykernel)",
   "language": "python",
   "name": "python3"
  },
  "language_info": {
   "codemirror_mode": {
    "name": "ipython",
    "version": 3
   },
   "file_extension": ".py",
   "mimetype": "text/x-python",
   "name": "python",
   "nbconvert_exporter": "python",
   "pygments_lexer": "ipython3",
   "version": "3.10.5"
  }
 },
 "nbformat": 4,
 "nbformat_minor": 5
}
