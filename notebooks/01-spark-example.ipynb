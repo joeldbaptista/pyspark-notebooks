{
 "cells": [
  {
   "cell_type": "markdown",
   "id": "a71f1f39-632d-4f93-9e9e-3949920c4d87",
   "metadata": {},
   "source": [
    "# Imports and Spark sessions"
   ]
  },
  {
   "cell_type": "code",
   "execution_count": 1,
   "id": "6b233b10-2dce-410b-9a1a-e439ce450264",
   "metadata": {},
   "outputs": [],
   "source": [
    "import pyspark \n",
    "from pyspark import SparkContext"
   ]
  },
  {
   "cell_type": "code",
   "execution_count": 2,
   "id": "beb23f0d-15df-4ea1-b8a0-1d8b105084c7",
   "metadata": {},
   "outputs": [],
   "source": [
    "sc = SparkContext()\n",
    "spark = pyspark.sql.SparkSession(sc, jsparkSession=None)"
   ]
  },
  {
   "cell_type": "markdown",
   "id": "48892cb5-7200-44f7-8aed-1250a97b9522",
   "metadata": {},
   "source": [
    "Documentation about `SparkContext` [here](https://spark.apache.org/docs/3.1.1/api/python/reference/api/pyspark.SparkContext.html). \n",
    "\n",
    "A `SparkContext` represents the connection to a Spark cluster, and can be used to create RDD and broadcast variables on that cluster. When you create a new `SparkContext`, at least the master and app name should be set, either through the named parameters here or through conf."
   ]
  },
  {
   "cell_type": "markdown",
   "id": "d6f44120-4e61-41d9-bf1b-30509a428aff",
   "metadata": {},
   "source": [
    "## Read a file"
   ]
  },
  {
   "cell_type": "code",
   "execution_count": 3,
   "id": "5fa7036d-cd07-4377-9ca9-743a7f0dd87c",
   "metadata": {},
   "outputs": [],
   "source": [
    "fname = \"../data/movie_data.csv\""
   ]
  },
  {
   "cell_type": "markdown",
   "id": "8c24aa84-0b07-4d41-a5c5-a98eb7a7e4cc",
   "metadata": {},
   "source": [
    "## What's a dataframe"
   ]
  },
  {
   "cell_type": "code",
   "execution_count": 5,
   "id": "aa56d46a-54cf-4efe-abf0-c67e119ac3c8",
   "metadata": {},
   "outputs": [],
   "source": [
    "df = spark.read.option(\"header\",\"true\").option(\"inferSchema\",\"true\").csv(fname)"
   ]
  },
  {
   "cell_type": "code",
   "execution_count": 6,
   "id": "370f555c-9ecb-4797-9c52-00967cae2970",
   "metadata": {},
   "outputs": [
    {
     "name": "stdout",
     "output_type": "stream",
     "text": [
      "root\n",
      " |-- Title: string (nullable = true)\n",
      " |-- Genre: string (nullable = true)\n",
      " |-- Premiere: string (nullable = true)\n",
      " |-- Runtime: integer (nullable = true)\n",
      " |-- IMDB Score: double (nullable = true)\n",
      " |-- Language: string (nullable = true)\n",
      "\n"
     ]
    }
   ],
   "source": [
    "df.printSchema()"
   ]
  },
  {
   "cell_type": "code",
   "execution_count": 7,
   "id": "ba30ff26-2fb8-4e55-9e58-721de693b076",
   "metadata": {},
   "outputs": [
    {
     "name": "stdout",
     "output_type": "stream",
     "text": [
      "+--------------------+-----------+------------------+-------+----------+--------+\n",
      "|               Title|      Genre|          Premiere|Runtime|IMDB Score|Language|\n",
      "+--------------------+-----------+------------------+-------+----------+--------+\n",
      "|   Fear Mention Tell|   Thriller| December 26, 2020|     92|       5.0| Chinese|\n",
      "|    Next Option Read|     Comedy|    April 28, 2022|    124|       3.7|Japanese|\n",
      "|Perhaps Democrati...|     Horror| February 15, 2021|    117|       3.7|   Hindi|\n",
      "|    Third Life Party|      Drama|      May 31, 2021|     55|       1.6| Italian|\n",
      "| Our Experience Main|    Romance| November 13, 2021|    126|       2.7| Italian|\n",
      "|Enough Remain Exp...|      Drama|    March 18, 2021|     72|       4.0| English|\n",
      "| Now Allow Agreement|    Romance|      May 09, 2020|    149|       1.6| Italian|\n",
      "|   Fly Could Compare|    Mystery|      May 10, 2021|     81|       1.2|   Hindi|\n",
      "|   Whom Education If|     Horror|September 28, 2021|    123|       2.0| Italian|\n",
      "|         Red Just Or|     Comedy|     June 07, 2022|    116|       3.2| Italian|\n",
      "|Camera Direction ...|Documentary|    April 17, 2020|     55|       4.5|Japanese|\n",
      "|     Other Role Area|     Action| February 19, 2020|    118|       4.9|Japanese|\n",
      "|Institution Rathe...|    Romance|  October 05, 2020|     83|       3.2|Japanese|\n",
      "|Hear Year Television|     Action|     July 11, 2021|     88|       2.1| Italian|\n",
      "| Own Serious Present|Documentary|  October 20, 2021|    108|       3.7| Chinese|\n",
      "|  Raise Enjoy Method|    Mystery| February 25, 2022|    137|       1.4|Japanese|\n",
      "|Actually Traditio...|    Mystery|  January 11, 2020|     85|       2.9|   Hindi|\n",
      "| Money After Program|      Drama|     June 18, 2021|    119|       2.0|   Hindi|\n",
      "|    Eight Four Total|     Comedy|   August 16, 2021|    102|       4.3|Japanese|\n",
      "|Management Future...|     Comedy|     June 02, 2021|     63|       4.7| Italian|\n",
      "+--------------------+-----------+------------------+-------+----------+--------+\n",
      "only showing top 20 rows\n",
      "\n"
     ]
    }
   ],
   "source": [
    "df.show()"
   ]
  },
  {
   "cell_type": "markdown",
   "id": "02f4c8c1-e479-412b-8a6f-dd6068774b94",
   "metadata": {},
   "source": [
    "## Get the schema and print data"
   ]
  },
  {
   "cell_type": "markdown",
   "id": "765802eb-27f7-47a5-8c4d-fd7f42a8d691",
   "metadata": {},
   "source": [
    "## Query a dataframe"
   ]
  },
  {
   "cell_type": "markdown",
   "id": "65b8d8e3-0ccc-4e2a-8d61-d2d1c91f06ab",
   "metadata": {},
   "source": [
    "## Transform a dataframe"
   ]
  },
  {
   "cell_type": "code",
   "execution_count": null,
   "id": "37207d7f-9ac0-4821-8a9d-2ba3bc7075e2",
   "metadata": {},
   "outputs": [],
   "source": []
  }
 ],
 "metadata": {
  "kernelspec": {
   "display_name": "Python 3 (ipykernel)",
   "language": "python",
   "name": "python3"
  },
  "language_info": {
   "codemirror_mode": {
    "name": "ipython",
    "version": 3
   },
   "file_extension": ".py",
   "mimetype": "text/x-python",
   "name": "python",
   "nbconvert_exporter": "python",
   "pygments_lexer": "ipython3",
   "version": "3.10.5"
  }
 },
 "nbformat": 4,
 "nbformat_minor": 5
}
